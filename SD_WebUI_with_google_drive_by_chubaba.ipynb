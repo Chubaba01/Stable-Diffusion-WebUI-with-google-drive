{
  "nbformat": 4,
  "nbformat_minor": 0,
  "metadata": {
    "colab": {
      "provenance": [],
      "collapsed_sections": [
        "wOpDLO_Cq1ny",
        "SwOUKdLBratN",
        "TNe9--zqrkX8",
        "VzCSOTICsSjt",
        "cTD0C0Kgsz8z",
        "BYKs0AXWwmZT"
      ],
      "include_colab_link": true
    },
    "kernelspec": {
      "name": "python3",
      "display_name": "Python 3"
    },
    "language_info": {
      "name": "python"
    },
    "accelerator": "GPU",
    "gpuClass": "standard"
  },
  "cells": [
    {
      "cell_type": "markdown",
      "metadata": {
        "id": "view-in-github",
        "colab_type": "text"
      },
      "source": [
        "<a href=\"https://colab.research.google.com/github/Chubaba01/Stable-Diffusion-WebUI-with-google-drive/blob/main/SD_WebUI_with_google_drive_by_chubaba.ipynb\" target=\"_parent\"><img src=\"https://colab.research.google.com/assets/colab-badge.svg\" alt=\"Open In Colab\"/></a>"
      ]
    },
    {
      "cell_type": "markdown",
      "source": [
        "# **Telefonda çalıştırmak için**\n",
        "\n",
        "\n",
        "1.   Müziği açıp oynatmaya başlat. Sonra diğer hücreleri çalıştır. Maks 13mb yer.\n",
        "\n",
        "\n",
        "\n"
      ],
      "metadata": {
        "id": "wOpDLO_Cq1ny"
      }
    },
    {
      "cell_type": "code",
      "source": [
        "%%html\n",
        "<audio src=\"https://henk.tech/colabkobold/silence.m4a\" controls>"
      ],
      "metadata": {
        "id": "EZxrAYJ_5zjW"
      },
      "execution_count": null,
      "outputs": []
    },
    {
      "cell_type": "markdown",
      "source": [
        "# **Google drive'a bağla**"
      ],
      "metadata": {
        "id": "SwOUKdLBratN"
      }
    },
    {
      "cell_type": "code",
      "execution_count": null,
      "metadata": {
        "id": "_teOn4hEs7aq"
      },
      "outputs": [],
      "source": [
        "from google.colab import drive\n",
        "drive.mount('/content/gdrive')"
      ]
    },
    {
      "cell_type": "markdown",
      "source": [
        "# **Stable diffusion ve python'ı kur**\n",
        "\n",
        "1.   En son satırda şu yazınca hücrenin çalışmasını durdur --> To create a public link, set `share=True` in `launch()`.\n",
        "\n",
        "\n"
      ],
      "metadata": {
        "id": "TNe9--zqrkX8"
      }
    },
    {
      "cell_type": "code",
      "source": [
        "!pip install --upgrade fastapi==0.90.1\n",
        "\n",
        "# Stable Diffusion WebUI\n",
        "\n",
        "!git clone https://github.com/AUTOMATIC1111/stable-diffusion-webui\n",
        "\n",
        "# Extensions\n",
        "\n",
        "!git clone https://github.com/DominikDoom/a1111-sd-webui-tagcomplete /content/stable-diffusion-webui/extensions/a1111-sd-webui-tagcomplete\n",
        "\n",
        "# Config\n",
        "\n",
        "!cp \"/content/gdrive/MyDrive/My-Config/configGoogleColab.json\" \"/content/stable-diffusion-webui\"\n",
        "\n",
        "# MODELS\n",
        "\n",
        "!cp \"/content/gdrive/MyDrive/My-models/kenshi_01.safetensors\" \"/content/stable-diffusion-webui/models/Stable-diffusion\"\n",
        "!cp \"/content/gdrive/MyDrive/My-models/kenshi_01.vae.pt\" \"/content/stable-diffusion-webui/models/Stable-diffusion\"\n",
        "!cp \"/content/gdrive/MyDrive/My-models/Counterfeit-V2.5.safetensors\" \"/content/stable-diffusion-webui/models/Stable-diffusion\"\n",
        "!cp \"/content/gdrive/MyDrive/My-models/Counterfeit-V2.5.vae.pt\" \"/content/stable-diffusion-webui/models/Stable-diffusion\"\n",
        "!cp \"/content/gdrive/MyDrive/My-models/pastelmix-fp32.safetensors\" \"/content/stable-diffusion-webui/models/Stable-diffusion\"\n",
        "!cp \"/content/gdrive/MyDrive/My-models/pastelmix-fp32.vae.pt\" \"/content/stable-diffusion-webui/models/Stable-diffusion\"\n",
        "\n",
        "\n",
        "%cd /content/stable-diffusion-webui\n",
        "!git checkout 3715ece\n",
        "!COMMANDLINE_ARGS=\"--ngrok senin_anahtarın --disable-safe-unpickle --no-half-vae --xformers --reinstall-xformers --enable-insecure-extension-access\" REQS_FILE=\"requirements.txt\" python launch.py   "
      ],
      "metadata": {
        "id": "dneJMDTutKXF"
      },
      "execution_count": null,
      "outputs": []
    },
    {
      "cell_type": "markdown",
      "source": [
        "# **Sırasıyla istediğin embeding, lora ve upscaler'ları kur**"
      ],
      "metadata": {
        "id": "VzCSOTICsSjt"
      }
    },
    {
      "cell_type": "code",
      "source": [
        "# EMBEDNINGS\n",
        "\n",
        "!cp \"/content/gdrive/MyDrive/My-embeddings/EasyNegative.pt\" \"/content/stable-diffusion-webui/embeddings\"\n",
        "!cp \"/content/gdrive/MyDrive/My-embeddings/bad-hands-5.pt\" \"/content/stable-diffusion-webui/embeddings\"\n",
        "!cp \"/content/gdrive/MyDrive/My-embeddings/bad-image-v2-39000.pt\" \"/content/stable-diffusion-webui/embeddings\"\n",
        "!cp \"/content/gdrive/MyDrive/My-embeddings/bad_quality.pt\" \"/content/stable-diffusion-webui/embeddings\"\n",
        "!cp \"/content/gdrive/MyDrive/My-embeddings/land_style.pt\" \"/content/stable-diffusion-webui/embeddings\"\n",
        "!cp \"/content/gdrive/MyDrive/My-embeddings/vile_prompt3.pt\" \"/content/stable-diffusion-webui/embeddings\""
      ],
      "metadata": {
        "id": "3ERwbKXF9jxy"
      },
      "execution_count": null,
      "outputs": []
    },
    {
      "cell_type": "code",
      "source": [
        "# LORAS\n",
        "\n",
        "!cp \"/content/gdrive/MyDrive/My-loras/John_Kafka_hard.safetensors\" \"/content/stable-diffusion-webui/models/Lora\"\n",
        "!cp \"/content/gdrive/MyDrive/My-loras/Sakimi-Chan_LoRA.safetensors\" \"/content/stable-diffusion-webui/models/Lora\"\n",
        "!cp \"/content/gdrive/MyDrive/My-loras/enaic31_hard.safetensors\" \"/content/stable-diffusion-webui/models/Lora\"\n",
        "!cp \"/content/gdrive/MyDrive/My-loras/Liang_Xing.safetensors\" \"/content/stable-diffusion-webui/models/Lora\""
      ],
      "metadata": {
        "id": "eLsxEvum9lel"
      },
      "execution_count": null,
      "outputs": []
    },
    {
      "cell_type": "code",
      "source": [
        "# UPSCALER\n",
        "\n",
        "!cp \"/content/gdrive/MyDrive/Upscaler/4x_fatal_Anime_500000_G.pth\" \"/content/stable-diffusion-webui/models/ESRGAN\""
      ],
      "metadata": {
        "id": "BJJfla_H9mwB"
      },
      "execution_count": null,
      "outputs": []
    },
    {
      "cell_type": "markdown",
      "source": [
        "# **WebUI'ı çalıştır**"
      ],
      "metadata": {
        "id": "cTD0C0Kgsz8z"
      }
    },
    {
      "cell_type": "code",
      "source": [
        "%cd /content/stable-diffusion-webui\n",
        "!COMMANDLINE_ARGS=\"--ngrok 2N0f3RoQGlkj5cwkWEWihYLhqYD_54VsNGDPAELipDdAdVAz6 --skip-torch-cuda-test --ui-settings-file configGoogleColab.json --ngrok-region eu --disable-safe-unpickle --no-half-vae --xformers --reinstall-xformers --enable-insecure-extension-access\" REQS_FILE=\"requirements.txt\" python launch.py"
      ],
      "metadata": {
        "id": "PBNnOOzR9pbX"
      },
      "execution_count": null,
      "outputs": []
    },
    {
      "cell_type": "markdown",
      "source": [
        "# **Ekstra model, embeding veya lora yüklemek için**"
      ],
      "metadata": {
        "id": "BYKs0AXWwmZT"
      }
    },
    {
      "cell_type": "code",
      "source": [
        "%cd /content/\n",
        "\n",
        "# MODELS\n",
        "\n",
        "!wget https://huggingface.co/lysdowie/dalcefoV3Painting/resolve/main/dalcefoV3Painting_dalcefoV3Painting.safetensors    #hugging face veya doğrudan indirme link'ini koy\n",
        "!mv \"/content/dalcefoV3Painting_dalcefoV3Painting.safetensors\" \"/content/gdrive/MyDrive/My-models\"                      #ilk baştaki yolu /content/indirdiğin dosyyanın adı/ şeklinde yap\n",
        "\n",
        "# EMBEDINGS\n",
        "\n",
        "!wget https://huggingface.co/datasets/Nerfgun3/yor_forger/resolve/main/yor_forger.pt\n",
        "!mv \"/content/yor_forger.pt\" \"/content/gdrive/MyDrive/My-embeddings\" \n",
        "\n",
        "# LORAS\n",
        "\n",
        "!wget https://huggingface.co/datasets/Nerfgun3/tinafate_LoRA/resolve/main/TinaFate.safetensors\n",
        "!mv \"/content/TinaFate.safetensors\" \"/content/gdrive/MyDrive/My-loras\" "
      ],
      "metadata": {
        "id": "M5yufAyqtkUO"
      },
      "execution_count": null,
      "outputs": []
    }
  ]
}
